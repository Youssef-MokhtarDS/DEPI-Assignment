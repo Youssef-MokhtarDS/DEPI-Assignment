{
 "cells": [
  {
   "cell_type": "code",
   "execution_count": 1,
   "id": "8c266fe3",
   "metadata": {
    "execution": {
     "iopub.execute_input": "2025-04-26T20:44:38.663169Z",
     "iopub.status.busy": "2025-04-26T20:44:38.662751Z",
     "iopub.status.idle": "2025-04-26T20:44:43.074037Z",
     "shell.execute_reply": "2025-04-26T20:44:43.073069Z"
    },
    "id": "a4nYZW07Vyww",
    "papermill": {
     "duration": 4.419063,
     "end_time": "2025-04-26T20:44:43.075896",
     "exception": false,
     "start_time": "2025-04-26T20:44:38.656833",
     "status": "completed"
    },
    "tags": []
   },
   "outputs": [],
   "source": [
    "import pandas as pd\n",
    "import numpy as np\n",
    "from sklearn.preprocessing import LabelEncoder\n",
    "from sklearn.preprocessing import OneHotEncoder, LabelEncoder\n",
    "from sklearn.metrics import accuracy_score\n",
    "from sklearn.metrics import log_loss\n",
    "from sklearn.metrics import classification_report\n",
    "import xgboost as xgb\n",
    "\n",
    "\n"
   ]
  },
  {
   "cell_type": "code",
   "execution_count": 2,
   "id": "8b3609f9",
   "metadata": {
    "execution": {
     "iopub.execute_input": "2025-04-26T20:44:43.085019Z",
     "iopub.status.busy": "2025-04-26T20:44:43.084485Z",
     "iopub.status.idle": "2025-04-26T20:44:43.194780Z",
     "shell.execute_reply": "2025-04-26T20:44:43.193680Z"
    },
    "id": "nNyCDlL6WBYu",
    "papermill": {
     "duration": 0.116977,
     "end_time": "2025-04-26T20:44:43.196801",
     "exception": false,
     "start_time": "2025-04-26T20:44:43.079824",
     "status": "completed"
    },
    "tags": []
   },
   "outputs": [],
   "source": [
    "train=pd.read_csv('/kaggle/input/liver-guard-multi-class-prediction-for-cirrhosis/train.csv')\n",
    "test=pd.read_csv('/kaggle/input/liver-guard-multi-class-prediction-for-cirrhosis/test.csv')"
   ]
  },
  {
   "cell_type": "code",
   "execution_count": 3,
   "id": "d5dea58b",
   "metadata": {
    "execution": {
     "iopub.execute_input": "2025-04-26T20:44:43.205653Z",
     "iopub.status.busy": "2025-04-26T20:44:43.205313Z",
     "iopub.status.idle": "2025-04-26T20:44:43.216828Z",
     "shell.execute_reply": "2025-04-26T20:44:43.215846Z"
    },
    "id": "jaHXwyCSWF9I",
    "papermill": {
     "duration": 0.017803,
     "end_time": "2025-04-26T20:44:43.218550",
     "exception": false,
     "start_time": "2025-04-26T20:44:43.200747",
     "status": "completed"
    },
    "tags": []
   },
   "outputs": [],
   "source": [
    "train['Age'] = train['Age'] // 365.0"
   ]
  },
  {
   "cell_type": "code",
   "execution_count": 4,
   "id": "abea913e",
   "metadata": {
    "execution": {
     "iopub.execute_input": "2025-04-26T20:44:43.226880Z",
     "iopub.status.busy": "2025-04-26T20:44:43.226487Z",
     "iopub.status.idle": "2025-04-26T20:44:43.232378Z",
     "shell.execute_reply": "2025-04-26T20:44:43.231451Z"
    },
    "id": "ZR0MgNCJWIRx",
    "papermill": {
     "duration": 0.012189,
     "end_time": "2025-04-26T20:44:43.234334",
     "exception": false,
     "start_time": "2025-04-26T20:44:43.222145",
     "status": "completed"
    },
    "tags": []
   },
   "outputs": [],
   "source": [
    "train['N_Days']=train['N_Days']//365.0"
   ]
  },
  {
   "cell_type": "code",
   "execution_count": 5,
   "id": "542d269b",
   "metadata": {
    "execution": {
     "iopub.execute_input": "2025-04-26T20:44:43.244102Z",
     "iopub.status.busy": "2025-04-26T20:44:43.243651Z",
     "iopub.status.idle": "2025-04-26T20:44:43.295357Z",
     "shell.execute_reply": "2025-04-26T20:44:43.294369Z"
    },
    "id": "cLQu82AmWNqU",
    "outputId": "93d63ce7-5aa8-4afe-b759-ccf9c7c30632",
    "papermill": {
     "duration": 0.057658,
     "end_time": "2025-04-26T20:44:43.296981",
     "exception": false,
     "start_time": "2025-04-26T20:44:43.239323",
     "status": "completed"
    },
    "tags": []
   },
   "outputs": [
    {
     "name": "stderr",
     "output_type": "stream",
     "text": [
      "/usr/local/lib/python3.11/dist-packages/pandas/io/formats/format.py:1458: RuntimeWarning: invalid value encountered in greater\n",
      "  has_large_values = (abs_vals > 1e6).any()\n",
      "/usr/local/lib/python3.11/dist-packages/pandas/io/formats/format.py:1459: RuntimeWarning: invalid value encountered in less\n",
      "  has_small_values = ((abs_vals < 10 ** (-self.digits)) & (abs_vals > 0)).any()\n",
      "/usr/local/lib/python3.11/dist-packages/pandas/io/formats/format.py:1459: RuntimeWarning: invalid value encountered in greater\n",
      "  has_small_values = ((abs_vals < 10 ** (-self.digits)) & (abs_vals > 0)).any()\n"
     ]
    },
    {
     "data": {
      "text/html": [
       "<div>\n",
       "<style scoped>\n",
       "    .dataframe tbody tr th:only-of-type {\n",
       "        vertical-align: middle;\n",
       "    }\n",
       "\n",
       "    .dataframe tbody tr th {\n",
       "        vertical-align: top;\n",
       "    }\n",
       "\n",
       "    .dataframe thead th {\n",
       "        text-align: right;\n",
       "    }\n",
       "</style>\n",
       "<table border=\"1\" class=\"dataframe\">\n",
       "  <thead>\n",
       "    <tr style=\"text-align: right;\">\n",
       "      <th></th>\n",
       "      <th>id</th>\n",
       "      <th>Years</th>\n",
       "      <th>Drug</th>\n",
       "      <th>Age</th>\n",
       "      <th>Sex</th>\n",
       "      <th>Ascites</th>\n",
       "      <th>Hepatomegaly</th>\n",
       "      <th>Spiders</th>\n",
       "      <th>Edema</th>\n",
       "      <th>Bilirubin</th>\n",
       "      <th>Cholesterol</th>\n",
       "      <th>Albumin</th>\n",
       "      <th>Copper</th>\n",
       "      <th>Alk_Phos</th>\n",
       "      <th>SGOT</th>\n",
       "      <th>Tryglicerides</th>\n",
       "      <th>Platelets</th>\n",
       "      <th>Prothrombin</th>\n",
       "      <th>Stage</th>\n",
       "      <th>Status</th>\n",
       "    </tr>\n",
       "  </thead>\n",
       "  <tbody>\n",
       "    <tr>\n",
       "      <th>0</th>\n",
       "      <td>0</td>\n",
       "      <td>3.0</td>\n",
       "      <td>NaN</td>\n",
       "      <td>67.0</td>\n",
       "      <td>F</td>\n",
       "      <td>NaN</td>\n",
       "      <td>NaN</td>\n",
       "      <td>NaN</td>\n",
       "      <td>N</td>\n",
       "      <td>0.8</td>\n",
       "      <td>NaN</td>\n",
       "      <td>3.65</td>\n",
       "      <td>NaN</td>\n",
       "      <td>NaN</td>\n",
       "      <td>NaN</td>\n",
       "      <td>NaN</td>\n",
       "      <td>331.0</td>\n",
       "      <td>11.2</td>\n",
       "      <td>4.0</td>\n",
       "      <td>D</td>\n",
       "    </tr>\n",
       "    <tr>\n",
       "      <th>1</th>\n",
       "      <td>1</td>\n",
       "      <td>8.0</td>\n",
       "      <td>NaN</td>\n",
       "      <td>46.0</td>\n",
       "      <td>F</td>\n",
       "      <td>NaN</td>\n",
       "      <td>NaN</td>\n",
       "      <td>NaN</td>\n",
       "      <td>N</td>\n",
       "      <td>0.8</td>\n",
       "      <td>NaN</td>\n",
       "      <td>3.87</td>\n",
       "      <td>NaN</td>\n",
       "      <td>NaN</td>\n",
       "      <td>NaN</td>\n",
       "      <td>NaN</td>\n",
       "      <td>269.0</td>\n",
       "      <td>10.3</td>\n",
       "      <td>1.0</td>\n",
       "      <td>C</td>\n",
       "    </tr>\n",
       "    <tr>\n",
       "      <th>2</th>\n",
       "      <td>2</td>\n",
       "      <td>12.0</td>\n",
       "      <td>NaN</td>\n",
       "      <td>46.0</td>\n",
       "      <td>F</td>\n",
       "      <td>NaN</td>\n",
       "      <td>NaN</td>\n",
       "      <td>NaN</td>\n",
       "      <td>S</td>\n",
       "      <td>1.3</td>\n",
       "      <td>NaN</td>\n",
       "      <td>3.40</td>\n",
       "      <td>NaN</td>\n",
       "      <td>NaN</td>\n",
       "      <td>NaN</td>\n",
       "      <td>NaN</td>\n",
       "      <td>219.0</td>\n",
       "      <td>11.5</td>\n",
       "      <td>4.0</td>\n",
       "      <td>D</td>\n",
       "    </tr>\n",
       "    <tr>\n",
       "      <th>3</th>\n",
       "      <td>3</td>\n",
       "      <td>2.0</td>\n",
       "      <td>D-penicillamine</td>\n",
       "      <td>39.0</td>\n",
       "      <td>F</td>\n",
       "      <td>N</td>\n",
       "      <td>Y</td>\n",
       "      <td>Y</td>\n",
       "      <td>N</td>\n",
       "      <td>1.2</td>\n",
       "      <td>244.0</td>\n",
       "      <td>3.08</td>\n",
       "      <td>121.0</td>\n",
       "      <td>11046.6</td>\n",
       "      <td>79.05</td>\n",
       "      <td>91.0</td>\n",
       "      <td>358.0</td>\n",
       "      <td>11.0</td>\n",
       "      <td>4.0</td>\n",
       "      <td>C</td>\n",
       "    </tr>\n",
       "    <tr>\n",
       "      <th>4</th>\n",
       "      <td>4</td>\n",
       "      <td>0.0</td>\n",
       "      <td>NaN</td>\n",
       "      <td>61.0</td>\n",
       "      <td>F</td>\n",
       "      <td>NaN</td>\n",
       "      <td>NaN</td>\n",
       "      <td>NaN</td>\n",
       "      <td>N</td>\n",
       "      <td>2.7</td>\n",
       "      <td>NaN</td>\n",
       "      <td>3.91</td>\n",
       "      <td>NaN</td>\n",
       "      <td>NaN</td>\n",
       "      <td>NaN</td>\n",
       "      <td>NaN</td>\n",
       "      <td>142.0</td>\n",
       "      <td>11.5</td>\n",
       "      <td>4.0</td>\n",
       "      <td>D</td>\n",
       "    </tr>\n",
       "    <tr>\n",
       "      <th>...</th>\n",
       "      <td>...</td>\n",
       "      <td>...</td>\n",
       "      <td>...</td>\n",
       "      <td>...</td>\n",
       "      <td>...</td>\n",
       "      <td>...</td>\n",
       "      <td>...</td>\n",
       "      <td>...</td>\n",
       "      <td>...</td>\n",
       "      <td>...</td>\n",
       "      <td>...</td>\n",
       "      <td>...</td>\n",
       "      <td>...</td>\n",
       "      <td>...</td>\n",
       "      <td>...</td>\n",
       "      <td>...</td>\n",
       "      <td>...</td>\n",
       "      <td>...</td>\n",
       "      <td>...</td>\n",
       "      <td>...</td>\n",
       "    </tr>\n",
       "    <tr>\n",
       "      <th>14995</th>\n",
       "      <td>14995</td>\n",
       "      <td>12.0</td>\n",
       "      <td>Placebo</td>\n",
       "      <td>64.0</td>\n",
       "      <td>F</td>\n",
       "      <td>N</td>\n",
       "      <td>N</td>\n",
       "      <td>N</td>\n",
       "      <td>N</td>\n",
       "      <td>0.5</td>\n",
       "      <td>248.0</td>\n",
       "      <td>3.70</td>\n",
       "      <td>48.0</td>\n",
       "      <td>678.0</td>\n",
       "      <td>51.15</td>\n",
       "      <td>84.0</td>\n",
       "      <td>344.0</td>\n",
       "      <td>9.7</td>\n",
       "      <td>3.0</td>\n",
       "      <td>C</td>\n",
       "    </tr>\n",
       "    <tr>\n",
       "      <th>14996</th>\n",
       "      <td>14996</td>\n",
       "      <td>3.0</td>\n",
       "      <td>D-penicillamine</td>\n",
       "      <td>47.0</td>\n",
       "      <td>M</td>\n",
       "      <td>N</td>\n",
       "      <td>Y</td>\n",
       "      <td>N</td>\n",
       "      <td>N</td>\n",
       "      <td>1.6</td>\n",
       "      <td>660.0</td>\n",
       "      <td>2.95</td>\n",
       "      <td>94.0</td>\n",
       "      <td>1857.0</td>\n",
       "      <td>151.90</td>\n",
       "      <td>155.0</td>\n",
       "      <td>337.0</td>\n",
       "      <td>11.7</td>\n",
       "      <td>4.0</td>\n",
       "      <td>D</td>\n",
       "    </tr>\n",
       "    <tr>\n",
       "      <th>14997</th>\n",
       "      <td>14997</td>\n",
       "      <td>7.0</td>\n",
       "      <td>Placebo</td>\n",
       "      <td>49.0</td>\n",
       "      <td>F</td>\n",
       "      <td>N</td>\n",
       "      <td>Y</td>\n",
       "      <td>Y</td>\n",
       "      <td>N</td>\n",
       "      <td>0.7</td>\n",
       "      <td>252.0</td>\n",
       "      <td>3.85</td>\n",
       "      <td>13.0</td>\n",
       "      <td>663.0</td>\n",
       "      <td>72.85</td>\n",
       "      <td>58.0</td>\n",
       "      <td>336.0</td>\n",
       "      <td>9.6</td>\n",
       "      <td>3.0</td>\n",
       "      <td>C</td>\n",
       "    </tr>\n",
       "    <tr>\n",
       "      <th>14998</th>\n",
       "      <td>14998</td>\n",
       "      <td>3.0</td>\n",
       "      <td>NaN</td>\n",
       "      <td>64.0</td>\n",
       "      <td>F</td>\n",
       "      <td>NaN</td>\n",
       "      <td>NaN</td>\n",
       "      <td>NaN</td>\n",
       "      <td>N</td>\n",
       "      <td>0.5</td>\n",
       "      <td>NaN</td>\n",
       "      <td>3.49</td>\n",
       "      <td>NaN</td>\n",
       "      <td>NaN</td>\n",
       "      <td>NaN</td>\n",
       "      <td>NaN</td>\n",
       "      <td>425.0</td>\n",
       "      <td>10.4</td>\n",
       "      <td>4.0</td>\n",
       "      <td>C</td>\n",
       "    </tr>\n",
       "    <tr>\n",
       "      <th>14999</th>\n",
       "      <td>14999</td>\n",
       "      <td>7.0</td>\n",
       "      <td>D-penicillamine</td>\n",
       "      <td>69.0</td>\n",
       "      <td>F</td>\n",
       "      <td>N</td>\n",
       "      <td>Y</td>\n",
       "      <td>N</td>\n",
       "      <td>N</td>\n",
       "      <td>0.9</td>\n",
       "      <td>NaN</td>\n",
       "      <td>3.33</td>\n",
       "      <td>57.0</td>\n",
       "      <td>666.0</td>\n",
       "      <td>54.25</td>\n",
       "      <td>NaN</td>\n",
       "      <td>325.0</td>\n",
       "      <td>11.0</td>\n",
       "      <td>4.0</td>\n",
       "      <td>D</td>\n",
       "    </tr>\n",
       "  </tbody>\n",
       "</table>\n",
       "<p>15000 rows × 20 columns</p>\n",
       "</div>"
      ],
      "text/plain": [
       "          id  Years             Drug   Age Sex Ascites Hepatomegaly Spiders  \\\n",
       "0          0    3.0              NaN  67.0   F     NaN          NaN     NaN   \n",
       "1          1    8.0              NaN  46.0   F     NaN          NaN     NaN   \n",
       "2          2   12.0              NaN  46.0   F     NaN          NaN     NaN   \n",
       "3          3    2.0  D-penicillamine  39.0   F       N            Y       Y   \n",
       "4          4    0.0              NaN  61.0   F     NaN          NaN     NaN   \n",
       "...      ...    ...              ...   ...  ..     ...          ...     ...   \n",
       "14995  14995   12.0          Placebo  64.0   F       N            N       N   \n",
       "14996  14996    3.0  D-penicillamine  47.0   M       N            Y       N   \n",
       "14997  14997    7.0          Placebo  49.0   F       N            Y       Y   \n",
       "14998  14998    3.0              NaN  64.0   F     NaN          NaN     NaN   \n",
       "14999  14999    7.0  D-penicillamine  69.0   F       N            Y       N   \n",
       "\n",
       "      Edema  Bilirubin  Cholesterol  Albumin  Copper  Alk_Phos    SGOT  \\\n",
       "0         N        0.8          NaN     3.65     NaN       NaN     NaN   \n",
       "1         N        0.8          NaN     3.87     NaN       NaN     NaN   \n",
       "2         S        1.3          NaN     3.40     NaN       NaN     NaN   \n",
       "3         N        1.2        244.0     3.08   121.0   11046.6   79.05   \n",
       "4         N        2.7          NaN     3.91     NaN       NaN     NaN   \n",
       "...     ...        ...          ...      ...     ...       ...     ...   \n",
       "14995     N        0.5        248.0     3.70    48.0     678.0   51.15   \n",
       "14996     N        1.6        660.0     2.95    94.0    1857.0  151.90   \n",
       "14997     N        0.7        252.0     3.85    13.0     663.0   72.85   \n",
       "14998     N        0.5          NaN     3.49     NaN       NaN     NaN   \n",
       "14999     N        0.9          NaN     3.33    57.0     666.0   54.25   \n",
       "\n",
       "       Tryglicerides  Platelets  Prothrombin  Stage Status  \n",
       "0                NaN      331.0         11.2    4.0      D  \n",
       "1                NaN      269.0         10.3    1.0      C  \n",
       "2                NaN      219.0         11.5    4.0      D  \n",
       "3               91.0      358.0         11.0    4.0      C  \n",
       "4                NaN      142.0         11.5    4.0      D  \n",
       "...              ...        ...          ...    ...    ...  \n",
       "14995           84.0      344.0          9.7    3.0      C  \n",
       "14996          155.0      337.0         11.7    4.0      D  \n",
       "14997           58.0      336.0          9.6    3.0      C  \n",
       "14998            NaN      425.0         10.4    4.0      C  \n",
       "14999            NaN      325.0         11.0    4.0      D  \n",
       "\n",
       "[15000 rows x 20 columns]"
      ]
     },
     "execution_count": 5,
     "metadata": {},
     "output_type": "execute_result"
    }
   ],
   "source": [
    "# Rename column \"old_name\" to \"new_name\"\n",
    "train.rename(columns={\"N_Days\": \"Years\"})"
   ]
  },
  {
   "cell_type": "code",
   "execution_count": 6,
   "id": "2248d551",
   "metadata": {
    "execution": {
     "iopub.execute_input": "2025-04-26T20:44:43.306410Z",
     "iopub.status.busy": "2025-04-26T20:44:43.306094Z",
     "iopub.status.idle": "2025-04-26T20:44:43.427127Z",
     "shell.execute_reply": "2025-04-26T20:44:43.426112Z"
    },
    "id": "ld3Yuvc7xIdx",
    "papermill": {
     "duration": 0.127806,
     "end_time": "2025-04-26T20:44:43.428963",
     "exception": false,
     "start_time": "2025-04-26T20:44:43.301157",
     "status": "completed"
    },
    "tags": []
   },
   "outputs": [],
   "source": [
    "TARGET = \"Status\"\n",
    "FEATURES = train.columns.drop([\"id\", \"N_Days\", TARGET]).tolist()\n",
    "\n",
    "# Separate numerical and categorical features\n",
    "numerical_cols = train[FEATURES].select_dtypes(include=\"number\").columns.tolist()\n",
    "categorical_cols = train[FEATURES].select_dtypes(include=\"object\").columns.tolist()\n",
    "\n",
    "# Fill missing values\n",
    "train[numerical_cols] = train[numerical_cols].fillna(0)\n",
    "test[numerical_cols] = test[numerical_cols].fillna(0)\n",
    "train[categorical_cols] = train[categorical_cols].fillna(\"NV\")\n",
    "test[categorical_cols] = test[categorical_cols].fillna(\"NV\")\n",
    "\n",
    "# Filter valid categorical columns (must have >1 unique value)\n",
    "valid_categorical = [col for col in categorical_cols if train[col].nunique() > 1]\n",
    "\n",
    "# One-hot encode\n",
    "ohe = OneHotEncoder(drop=\"first\", sparse_output=False)  # <-- Fix here\n",
    "X_cat_train = train[valid_categorical]\n",
    "X_cat_test = test[valid_categorical]\n",
    "train_ohe = ohe.fit_transform(X_cat_train)\n",
    "test_ohe = ohe.transform(X_cat_test)\n",
    "\n",
    "# Get encoded column names\n",
    "encoded_columns = ohe.get_feature_names_out(valid_categorical)\n",
    "\n",
    "# Combine numerical and encoded categorical features\n",
    "X_train = pd.concat([\n",
    "    train[numerical_cols],\n",
    "    pd.DataFrame(train_ohe, columns=encoded_columns)\n",
    "], axis=1)\n",
    "\n",
    "X_test = pd.concat([\n",
    "    test[numerical_cols],\n",
    "    pd.DataFrame(test_ohe, columns=encoded_columns)\n",
    "], axis=1)"
   ]
  },
  {
   "cell_type": "code",
   "execution_count": 7,
   "id": "e90e9828",
   "metadata": {
    "execution": {
     "iopub.execute_input": "2025-04-26T20:44:43.438567Z",
     "iopub.status.busy": "2025-04-26T20:44:43.438249Z",
     "iopub.status.idle": "2025-04-26T20:44:43.444282Z",
     "shell.execute_reply": "2025-04-26T20:44:43.443302Z"
    },
    "id": "qJ6ahCZHv-xR",
    "outputId": "2e153cd8-8145-45e5-fa7e-937c3497f21b",
    "papermill": {
     "duration": 0.012783,
     "end_time": "2025-04-26T20:44:43.445914",
     "exception": false,
     "start_time": "2025-04-26T20:44:43.433131",
     "status": "completed"
    },
    "tags": []
   },
   "outputs": [
    {
     "name": "stdout",
     "output_type": "stream",
     "text": [
      "Training shape: (15000, 22)\n",
      "Test shape: (10000, 22)\n"
     ]
    }
   ],
   "source": [
    "print(\"Training shape:\", X_train.shape)\n",
    "print(\"Test shape:\", X_test.shape)\n"
   ]
  },
  {
   "cell_type": "code",
   "execution_count": 8,
   "id": "2ed4d352",
   "metadata": {
    "execution": {
     "iopub.execute_input": "2025-04-26T20:44:43.455524Z",
     "iopub.status.busy": "2025-04-26T20:44:43.455181Z",
     "iopub.status.idle": "2025-04-26T20:44:44.195496Z",
     "shell.execute_reply": "2025-04-26T20:44:44.194766Z"
    },
    "id": "tk9lAHRsyU_H",
    "outputId": "822d04e3-c7bf-4692-b877-b73ceb1b5a55",
    "papermill": {
     "duration": 0.74687,
     "end_time": "2025-04-26T20:44:44.196976",
     "exception": false,
     "start_time": "2025-04-26T20:44:43.450106",
     "status": "completed"
    },
    "tags": []
   },
   "outputs": [
    {
     "data": {
      "text/html": [
       "<style>#sk-container-id-1 {color: black;background-color: white;}#sk-container-id-1 pre{padding: 0;}#sk-container-id-1 div.sk-toggleable {background-color: white;}#sk-container-id-1 label.sk-toggleable__label {cursor: pointer;display: block;width: 100%;margin-bottom: 0;padding: 0.3em;box-sizing: border-box;text-align: center;}#sk-container-id-1 label.sk-toggleable__label-arrow:before {content: \"▸\";float: left;margin-right: 0.25em;color: #696969;}#sk-container-id-1 label.sk-toggleable__label-arrow:hover:before {color: black;}#sk-container-id-1 div.sk-estimator:hover label.sk-toggleable__label-arrow:before {color: black;}#sk-container-id-1 div.sk-toggleable__content {max-height: 0;max-width: 0;overflow: hidden;text-align: left;background-color: #f0f8ff;}#sk-container-id-1 div.sk-toggleable__content pre {margin: 0.2em;color: black;border-radius: 0.25em;background-color: #f0f8ff;}#sk-container-id-1 input.sk-toggleable__control:checked~div.sk-toggleable__content {max-height: 200px;max-width: 100%;overflow: auto;}#sk-container-id-1 input.sk-toggleable__control:checked~label.sk-toggleable__label-arrow:before {content: \"▾\";}#sk-container-id-1 div.sk-estimator input.sk-toggleable__control:checked~label.sk-toggleable__label {background-color: #d4ebff;}#sk-container-id-1 div.sk-label input.sk-toggleable__control:checked~label.sk-toggleable__label {background-color: #d4ebff;}#sk-container-id-1 input.sk-hidden--visually {border: 0;clip: rect(1px 1px 1px 1px);clip: rect(1px, 1px, 1px, 1px);height: 1px;margin: -1px;overflow: hidden;padding: 0;position: absolute;width: 1px;}#sk-container-id-1 div.sk-estimator {font-family: monospace;background-color: #f0f8ff;border: 1px dotted black;border-radius: 0.25em;box-sizing: border-box;margin-bottom: 0.5em;}#sk-container-id-1 div.sk-estimator:hover {background-color: #d4ebff;}#sk-container-id-1 div.sk-parallel-item::after {content: \"\";width: 100%;border-bottom: 1px solid gray;flex-grow: 1;}#sk-container-id-1 div.sk-label:hover label.sk-toggleable__label {background-color: #d4ebff;}#sk-container-id-1 div.sk-serial::before {content: \"\";position: absolute;border-left: 1px solid gray;box-sizing: border-box;top: 0;bottom: 0;left: 50%;z-index: 0;}#sk-container-id-1 div.sk-serial {display: flex;flex-direction: column;align-items: center;background-color: white;padding-right: 0.2em;padding-left: 0.2em;position: relative;}#sk-container-id-1 div.sk-item {position: relative;z-index: 1;}#sk-container-id-1 div.sk-parallel {display: flex;align-items: stretch;justify-content: center;background-color: white;position: relative;}#sk-container-id-1 div.sk-item::before, #sk-container-id-1 div.sk-parallel-item::before {content: \"\";position: absolute;border-left: 1px solid gray;box-sizing: border-box;top: 0;bottom: 0;left: 50%;z-index: -1;}#sk-container-id-1 div.sk-parallel-item {display: flex;flex-direction: column;z-index: 1;position: relative;background-color: white;}#sk-container-id-1 div.sk-parallel-item:first-child::after {align-self: flex-end;width: 50%;}#sk-container-id-1 div.sk-parallel-item:last-child::after {align-self: flex-start;width: 50%;}#sk-container-id-1 div.sk-parallel-item:only-child::after {width: 0;}#sk-container-id-1 div.sk-dashed-wrapped {border: 1px dashed gray;margin: 0 0.4em 0.5em 0.4em;box-sizing: border-box;padding-bottom: 0.4em;background-color: white;}#sk-container-id-1 div.sk-label label {font-family: monospace;font-weight: bold;display: inline-block;line-height: 1.2em;}#sk-container-id-1 div.sk-label-container {text-align: center;}#sk-container-id-1 div.sk-container {/* jupyter's `normalize.less` sets `[hidden] { display: none; }` but bootstrap.min.css set `[hidden] { display: none !important; }` so we also need the `!important` here to be able to override the default hidden behavior on the sphinx rendered scikit-learn.org. See: https://github.com/scikit-learn/scikit-learn/issues/21755 */display: inline-block !important;position: relative;}#sk-container-id-1 div.sk-text-repr-fallback {display: none;}</style><div id=\"sk-container-id-1\" class=\"sk-top-container\"><div class=\"sk-text-repr-fallback\"><pre>XGBClassifier(base_score=None, booster=None, callbacks=None,\n",
       "              colsample_bylevel=None, colsample_bynode=None,\n",
       "              colsample_bytree=None, device=None, early_stopping_rounds=None,\n",
       "              enable_categorical=False, eval_metric=&#x27;mlogloss&#x27;,\n",
       "              feature_types=None, gamma=None, grow_policy=None,\n",
       "              importance_type=None, interaction_constraints=None,\n",
       "              learning_rate=None, max_bin=None, max_cat_threshold=None,\n",
       "              max_cat_to_onehot=None, max_delta_step=None, max_depth=None,\n",
       "              max_leaves=None, min_child_weight=None, missing=nan,\n",
       "              monotone_constraints=None, multi_strategy=None, n_estimators=None,\n",
       "              n_jobs=None, num_class=3, num_parallel_tree=None, ...)</pre><b>In a Jupyter environment, please rerun this cell to show the HTML representation or trust the notebook. <br />On GitHub, the HTML representation is unable to render, please try loading this page with nbviewer.org.</b></div><div class=\"sk-container\" hidden><div class=\"sk-item\"><div class=\"sk-estimator sk-toggleable\"><input class=\"sk-toggleable__control sk-hidden--visually\" id=\"sk-estimator-id-1\" type=\"checkbox\" checked><label for=\"sk-estimator-id-1\" class=\"sk-toggleable__label sk-toggleable__label-arrow\">XGBClassifier</label><div class=\"sk-toggleable__content\"><pre>XGBClassifier(base_score=None, booster=None, callbacks=None,\n",
       "              colsample_bylevel=None, colsample_bynode=None,\n",
       "              colsample_bytree=None, device=None, early_stopping_rounds=None,\n",
       "              enable_categorical=False, eval_metric=&#x27;mlogloss&#x27;,\n",
       "              feature_types=None, gamma=None, grow_policy=None,\n",
       "              importance_type=None, interaction_constraints=None,\n",
       "              learning_rate=None, max_bin=None, max_cat_threshold=None,\n",
       "              max_cat_to_onehot=None, max_delta_step=None, max_depth=None,\n",
       "              max_leaves=None, min_child_weight=None, missing=nan,\n",
       "              monotone_constraints=None, multi_strategy=None, n_estimators=None,\n",
       "              n_jobs=None, num_class=3, num_parallel_tree=None, ...)</pre></div></div></div></div></div>"
      ],
      "text/plain": [
       "XGBClassifier(base_score=None, booster=None, callbacks=None,\n",
       "              colsample_bylevel=None, colsample_bynode=None,\n",
       "              colsample_bytree=None, device=None, early_stopping_rounds=None,\n",
       "              enable_categorical=False, eval_metric='mlogloss',\n",
       "              feature_types=None, gamma=None, grow_policy=None,\n",
       "              importance_type=None, interaction_constraints=None,\n",
       "              learning_rate=None, max_bin=None, max_cat_threshold=None,\n",
       "              max_cat_to_onehot=None, max_delta_step=None, max_depth=None,\n",
       "              max_leaves=None, min_child_weight=None, missing=nan,\n",
       "              monotone_constraints=None, multi_strategy=None, n_estimators=None,\n",
       "              n_jobs=None, num_class=3, num_parallel_tree=None, ...)"
      ]
     },
     "execution_count": 8,
     "metadata": {},
     "output_type": "execute_result"
    }
   ],
   "source": [
    "# Encode target variable (Status)\n",
    "le = LabelEncoder()\n",
    "y_train = le.fit_transform(train[\"Status\"])  # <-- Define y_train here\n",
    "\n",
    "# Preprocess features (use your existing code for X_train and X_test)\n",
    "\n",
    "# Train XGBoost\n",
    "model = xgb.XGBClassifier(\n",
    "    objective=\"multi:softprob\",\n",
    "    num_class=3,\n",
    "    eval_metric=\"mlogloss\",\n",
    "    random_state=42\n",
    ")\n",
    "model.fit(X_train, y_train)  # Now y_train is defined\n",
    "\n",
    "# Predict and save submission (use your existing code)"
   ]
  },
  {
   "cell_type": "code",
   "execution_count": 9,
   "id": "c2f7d810",
   "metadata": {
    "execution": {
     "iopub.execute_input": "2025-04-26T20:44:44.208409Z",
     "iopub.status.busy": "2025-04-26T20:44:44.208115Z",
     "iopub.status.idle": "2025-04-26T20:44:44.213676Z",
     "shell.execute_reply": "2025-04-26T20:44:44.212781Z"
    },
    "id": "woHxlEuiyeSZ",
    "outputId": "b0343cd3-240f-475b-d828-1c7bc6b1df9a",
    "papermill": {
     "duration": 0.013042,
     "end_time": "2025-04-26T20:44:44.215128",
     "exception": false,
     "start_time": "2025-04-26T20:44:44.202086",
     "status": "completed"
    },
    "tags": []
   },
   "outputs": [
    {
     "name": "stdout",
     "output_type": "stream",
     "text": [
      "[2 0 2 0 2]\n",
      "Class mapping: ['C' 'CL' 'D']\n"
     ]
    }
   ],
   "source": [
    "print(y_train[:5])  # Should output array like [0, 1, 2, 0, ...]\n",
    "print(\"Class mapping:\", le.classes_)  # Should be ['C', 'CL', 'D']"
   ]
  },
  {
   "cell_type": "code",
   "execution_count": 10,
   "id": "0fe8c85e",
   "metadata": {
    "execution": {
     "iopub.execute_input": "2025-04-26T20:44:44.225182Z",
     "iopub.status.busy": "2025-04-26T20:44:44.224830Z",
     "iopub.status.idle": "2025-04-26T20:44:45.048004Z",
     "shell.execute_reply": "2025-04-26T20:44:45.047005Z"
    },
    "id": "6y8F_hT1y177",
    "outputId": "c1095d23-5d49-4064-dfd7-e70755e91e52",
    "papermill": {
     "duration": 0.830126,
     "end_time": "2025-04-26T20:44:45.049603",
     "exception": false,
     "start_time": "2025-04-26T20:44:44.219477",
     "status": "completed"
    },
    "tags": []
   },
   "outputs": [
    {
     "name": "stdout",
     "output_type": "stream",
     "text": [
      "Class mapping: ['C' 'CL' 'D']\n"
     ]
    }
   ],
   "source": [
    "# Load preprocessed data (X_train, X_test from earlier steps)\n",
    "# Encode target variable\n",
    "le = LabelEncoder()\n",
    "y_train = le.fit_transform(train[\"Status\"])  # Already done\n",
    "\n",
    "# Verify class mapping\n",
    "print(\"Class mapping:\", le.classes_)  # Should output ['C', 'CL', 'D']\n",
    "\n",
    "# Train XGBoost\n",
    "model = xgb.XGBClassifier(\n",
    "    objective=\"multi:softprob\",\n",
    "    num_class=3,\n",
    "    eval_metric=\"mlogloss\",\n",
    "    random_state=42\n",
    ")\n",
    "model.fit(X_train, y_train)\n",
    "\n",
    "# Predict probabilities (ensure alignment with le.classes_)\n",
    "probabilities = model.predict_proba(X_test)\n",
    "probabilities = np.clip(probabilities, 1e-15, 1 - 1e-15)\n",
    "\n",
    "# Create submission DataFrame\n",
    "submission = pd.DataFrame({\n",
    "    \"id\": test[\"id\"],\n",
    "    \"Status_C\": probabilities[:, 0],  # Class 0: C\n",
    "    \"Status_CL\": probabilities[:, 1], # Class 1: CL\n",
    "    \"Status_D\": probabilities[:, 2]   # Class 2: D\n",
    "})\n",
    "\n",
    "# Save to CSV\n",
    "submission.to_csv(\"submission.csv\", index=False)"
   ]
  },
  {
   "cell_type": "code",
   "execution_count": 11,
   "id": "6611517d",
   "metadata": {
    "execution": {
     "iopub.execute_input": "2025-04-26T20:44:45.060041Z",
     "iopub.status.busy": "2025-04-26T20:44:45.059527Z",
     "iopub.status.idle": "2025-04-26T20:44:45.075550Z",
     "shell.execute_reply": "2025-04-26T20:44:45.074617Z"
    },
    "id": "wZhdjyQjzxhX",
    "papermill": {
     "duration": 0.023269,
     "end_time": "2025-04-26T20:44:45.077437",
     "exception": false,
     "start_time": "2025-04-26T20:44:45.054168",
     "status": "completed"
    },
    "tags": []
   },
   "outputs": [],
   "source": [
    "from sklearn.model_selection import train_test_split\n",
    "# Split training data into 80% train, 20% validation (stratified by `Status`)\n",
    "X_train_split, X_val, y_train_split, y_val = train_test_split(\n",
    "    X_train,\n",
    "    y_train,\n",
    "    test_size=0.2,\n",
    "    stratify=y_train,\n",
    "    random_state=42\n",
    ")"
   ]
  },
  {
   "cell_type": "code",
   "execution_count": 12,
   "id": "4686bfec",
   "metadata": {
    "execution": {
     "iopub.execute_input": "2025-04-26T20:44:45.087543Z",
     "iopub.status.busy": "2025-04-26T20:44:45.087256Z",
     "iopub.status.idle": "2025-04-26T20:44:45.108485Z",
     "shell.execute_reply": "2025-04-26T20:44:45.107646Z"
    },
    "id": "GoV7SdYczyVn",
    "outputId": "19a5f65f-f1e3-461f-cc01-262b02e1eda7",
    "papermill": {
     "duration": 0.028219,
     "end_time": "2025-04-26T20:44:45.110260",
     "exception": false,
     "start_time": "2025-04-26T20:44:45.082041",
     "status": "completed"
    },
    "tags": []
   },
   "outputs": [
    {
     "name": "stdout",
     "output_type": "stream",
     "text": [
      "Validation Accuracy: 0.9500\n"
     ]
    }
   ],
   "source": [
    "# Predict classes (C/CL/D)\n",
    "y_pred = model.predict(X_val)\n",
    "accuracy = accuracy_score(y_val, y_pred)\n",
    "print(f\"Validation Accuracy: {accuracy:.4f}\")"
   ]
  },
  {
   "cell_type": "code",
   "execution_count": 13,
   "id": "4a5ecea6",
   "metadata": {
    "execution": {
     "iopub.execute_input": "2025-04-26T20:44:45.122376Z",
     "iopub.status.busy": "2025-04-26T20:44:45.122069Z",
     "iopub.status.idle": "2025-04-26T20:44:45.151690Z",
     "shell.execute_reply": "2025-04-26T20:44:45.149576Z"
    },
    "id": "2iIb2ig_z2yy",
    "outputId": "835a9aa3-b5a2-494a-d8de-3572a2a94f71",
    "papermill": {
     "duration": 0.037909,
     "end_time": "2025-04-26T20:44:45.153553",
     "exception": false,
     "start_time": "2025-04-26T20:44:45.115644",
     "status": "completed"
    },
    "tags": []
   },
   "outputs": [
    {
     "name": "stdout",
     "output_type": "stream",
     "text": [
      "Validation Log Loss: 0.1659\n"
     ]
    }
   ],
   "source": [
    "# Predict probabilities for all classes\n",
    "y_proba = model.predict_proba(X_val)\n",
    "logloss = log_loss(y_val, y_proba)\n",
    "print(f\"Validation Log Loss: {logloss:.4f}\")"
   ]
  },
  {
   "cell_type": "code",
   "execution_count": 14,
   "id": "18bce6b5",
   "metadata": {
    "execution": {
     "iopub.execute_input": "2025-04-26T20:44:45.164800Z",
     "iopub.status.busy": "2025-04-26T20:44:45.164484Z",
     "iopub.status.idle": "2025-04-26T20:44:45.180210Z",
     "shell.execute_reply": "2025-04-26T20:44:45.178894Z"
    },
    "id": "g4x-tMQbz5vr",
    "outputId": "04546dea-6b8b-4105-bcab-ab5a5687db89",
    "papermill": {
     "duration": 0.02308,
     "end_time": "2025-04-26T20:44:45.182226",
     "exception": false,
     "start_time": "2025-04-26T20:44:45.159146",
     "status": "completed"
    },
    "tags": []
   },
   "outputs": [
    {
     "name": "stdout",
     "output_type": "stream",
     "text": [
      "              precision    recall  f1-score   support\n",
      "\n",
      "           C       0.95      0.98      0.96      2031\n",
      "          CL       1.00      0.78      0.88        68\n",
      "           D       0.95      0.89      0.92       901\n",
      "\n",
      "    accuracy                           0.95      3000\n",
      "   macro avg       0.97      0.88      0.92      3000\n",
      "weighted avg       0.95      0.95      0.95      3000\n",
      "\n"
     ]
    }
   ],
   "source": [
    "# Convert encoded labels back to original names\n",
    "class_names = le.classes_  # ['C', 'CL', 'D']\n",
    "print(classification_report(\n",
    "    y_val,\n",
    "    y_pred,\n",
    "    target_names=class_names\n",
    "))"
   ]
  },
  {
   "cell_type": "code",
   "execution_count": 15,
   "id": "9ce1963f",
   "metadata": {
    "execution": {
     "iopub.execute_input": "2025-04-26T20:44:45.193324Z",
     "iopub.status.busy": "2025-04-26T20:44:45.192857Z",
     "iopub.status.idle": "2025-04-26T20:44:45.200646Z",
     "shell.execute_reply": "2025-04-26T20:44:45.199461Z"
    },
    "id": "uDvBC0Phy7Sl",
    "outputId": "0b39e6d8-01da-4216-bdfc-05be9f5421c6",
    "papermill": {
     "duration": 0.01539,
     "end_time": "2025-04-26T20:44:45.202262",
     "exception": false,
     "start_time": "2025-04-26T20:44:45.186872",
     "status": "completed"
    },
    "tags": []
   },
   "outputs": [
    {
     "name": "stdout",
     "output_type": "stream",
     "text": [
      "      id  Status_C  Status_CL  Status_D\n",
      "0  15000  0.769844   0.019195  0.210961\n",
      "1  15001  0.994765   0.000040  0.005195\n",
      "2  15002  0.922970   0.000948  0.076083\n",
      "3  15003  0.987983   0.000216  0.011801\n",
      "4  15004  0.984142   0.000069  0.015790\n"
     ]
    }
   ],
   "source": [
    "print(submission.head())"
   ]
  },
  {
   "cell_type": "code",
   "execution_count": 16,
   "id": "b416544c",
   "metadata": {
    "execution": {
     "iopub.execute_input": "2025-04-26T20:44:45.213422Z",
     "iopub.status.busy": "2025-04-26T20:44:45.213093Z",
     "iopub.status.idle": "2025-04-26T20:44:45.217854Z",
     "shell.execute_reply": "2025-04-26T20:44:45.216807Z"
    },
    "id": "pqrg893Vy72f",
    "outputId": "b4eb3f16-32ed-4f98-eae7-adbf9f844810",
    "papermill": {
     "duration": 0.011796,
     "end_time": "2025-04-26T20:44:45.219273",
     "exception": false,
     "start_time": "2025-04-26T20:44:45.207477",
     "status": "completed"
    },
    "tags": []
   },
   "outputs": [
    {
     "name": "stdout",
     "output_type": "stream",
     "text": [
      "(10000, 4)\n"
     ]
    }
   ],
   "source": [
    "print(submission.shape)"
   ]
  }
 ],
 "metadata": {
  "colab": {
   "provenance": []
  },
  "kaggle": {
   "accelerator": "none",
   "dataSources": [
    {
     "databundleVersionId": 10618710,
     "sourceId": 90850,
     "sourceType": "competition"
    }
   ],
   "dockerImageVersionId": 31012,
   "isGpuEnabled": false,
   "isInternetEnabled": true,
   "language": "python",
   "sourceType": "notebook"
  },
  "kernelspec": {
   "display_name": "Python 3",
   "language": "python",
   "name": "python3"
  },
  "language_info": {
   "codemirror_mode": {
    "name": "ipython",
    "version": 3
   },
   "file_extension": ".py",
   "mimetype": "text/x-python",
   "name": "python",
   "nbconvert_exporter": "python",
   "pygments_lexer": "ipython3",
   "version": "3.11.11"
  },
  "papermill": {
   "default_parameters": {},
   "duration": 12.591757,
   "end_time": "2025-04-26T20:44:45.945289",
   "environment_variables": {},
   "exception": null,
   "input_path": "__notebook__.ipynb",
   "output_path": "__notebook__.ipynb",
   "parameters": {},
   "start_time": "2025-04-26T20:44:33.353532",
   "version": "2.6.0"
  }
 },
 "nbformat": 4,
 "nbformat_minor": 5
}
