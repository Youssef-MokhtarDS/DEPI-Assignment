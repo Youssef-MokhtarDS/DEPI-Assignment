{
 "cells": [
  {
   "cell_type": "markdown",
   "metadata": {},
   "source": [
    "                                                       Section 1: Printing Messages \n",
    "Write a Python program to print the following message on the screen: \n",
    "\"Hello, Python learners! Today we start our coding journey.\" \n",
    "\n",
    "Challenge: Print a multi-line message using triple quotes that includes your name and \n",
    "favorite programming language. "
   ]
  },
  {
   "cell_type": "code",
   "execution_count": 2,
   "metadata": {},
   "outputs": [
    {
     "name": "stdout",
     "output_type": "stream",
     "text": [
      "Hello, Python learners! Today we start our coding journey.\n",
      "My name is youssef\n",
      "and my favorite programing language is python\n"
     ]
    }
   ],
   "source": [
    "print(\"Hello, Python learners! Today we start our coding journey.\")\n",
    "mlinemsg=\"\"\"My name is youssef\n",
    "and my favorite programing language is python\"\"\"\n",
    "print(mlinemsg)"
   ]
  },
  {
   "cell_type": "markdown",
   "metadata": {},
   "source": [
    "                                                        Section 2: Variables and Data Types \n",
    " Create a variable called age and assign it your age. Print a message that says, \"I am \n",
    "[age] years old.\" \n",
    "\n",
    "Challenge: Create three variables of different data types (integer, float, and string). Print \n",
    "each variable with a description of its data type."
   ]
  },
  {
   "cell_type": "code",
   "execution_count": 43,
   "metadata": {},
   "outputs": [
    {
     "name": "stdout",
     "output_type": "stream",
     "text": [
      "I am 22 years old\n",
      "10 <class 'int'> 30.5 <class 'float'> Youssef <class 'str'>\n"
     ]
    }
   ],
   "source": [
    "age=22\n",
    "print(f\"I am {age} years old\")\n",
    "\n",
    "int1=10\n",
    "float1=30.5\n",
    "str1=\"Youssef\"\n",
    "print(int1,type(int1),float1,type(float1),str1,type(str1))\n"
   ]
  },
  {
   "cell_type": "markdown",
   "metadata": {},
   "source": [
    "                                                           Section 3: Working with Strings \n",
    "Given the string text = \"Python is amazing\", write a program to extract and print the \n",
    "word \"amazing\" from it. \n",
    "\n",
    "Challenge: Concatenate two strings, first_name and last_name, with a space in between, and \n",
    "print the full name in uppercase."
   ]
  },
  {
   "cell_type": "code",
   "execution_count": null,
   "metadata": {},
   "outputs": [
    {
     "name": "stdout",
     "output_type": "stream",
     "text": [
      "amazing\n",
      "My name is  YOUSSEF MOKHTAR\n"
     ]
    }
   ],
   "source": [
    "str=\"Python is amazing\"\n",
    "print(str[10:])\n",
    "\n",
    "fname=\"youssef\"\n",
    "lname=\"Mokhtar\"\n",
    "print(\"My name is \",fname.upper(),lname.upper())"
   ]
  },
  {
   "cell_type": "markdown",
   "metadata": {},
   "source": [
    "                                                            Section 4: Basic Operations \n",
    "Write a program to calculate the area of a rectangle with a width of 5 and a height of 10 \n",
    "\n",
    "Challenge: Create two numbers, a = 20 and b = 7, and print the result of each arithmetic \n",
    "operation: addition, subtraction, multiplication, division, and modulo."
   ]
  },
  {
   "cell_type": "code",
   "execution_count": null,
   "metadata": {},
   "outputs": [
    {
     "name": "stdout",
     "output_type": "stream",
     "text": [
      "area of rectangle is 50\n",
      "sum is 27\n",
      "subtract is 13\n",
      "multipli is 140\n",
      "division is 2.857142857142857\n",
      "modulo is 6\n"
     ]
    }
   ],
   "source": [
    "width=5\n",
    "height=10\n",
    "print(\"area of rectangle is\",width*height)\n",
    "\n",
    "a=20\n",
    "b=7\n",
    "print(\"sum is\",a+b)\n",
    "print(\"subtract is\",a-b)\n",
    "print(\"multipli is\",a*b)\n",
    "print(\"division is\",a/b)\n",
    "print(\"modulo is\",a%b)"
   ]
  },
  {
   "cell_type": "markdown",
   "metadata": {},
   "source": [
    "                                                            Section 5: Lists and Tuples \n",
    "Create a list of five of your favorite foods. Print the entire list, then print the third \n",
    "item in the list. \n",
    "\n",
    "Challenge: Convert the list into a tuple, and try to change the first item in the tuple. Observe \n",
    "and explain the result."
   ]
  },
  {
   "cell_type": "code",
   "execution_count": null,
   "metadata": {},
   "outputs": [
    {
     "name": "stdout",
     "output_type": "stream",
     "text": [
      "Favorite Foods List: ['pizza', 'sushi', 'tacos', 'pasta', 'ice cream']\n",
      "Third item in the list: tacos\n",
      "Error: 'tuple' object does not support item assignment\n"
     ]
    }
   ],
   "source": [
    "favorite_foods = ['pizza', 'sushi', 'tacos', 'pasta', 'ice cream']\n",
    "print(\"Favorite Foods List:\", favorite_foods)\n",
    "print(\"Third item in the list:\", favorite_foods[2])\n",
    "\n",
    "favorite_foods_tuple = tuple(favorite_foods)\n",
    "try:\n",
    "    favorite_foods_tuple[0] = 'burger'\n",
    "except TypeError as e:\n",
    "    print(\"Error:\", e)\n",
    "#Error: 'tuple' object does not support item assignment because tuple is constant"
   ]
  },
  {
   "cell_type": "markdown",
   "metadata": {},
   "source": [
    "                                                                 Section 6: String Manipulation and Slicing \n",
    "Given the string sentence = \"Learning Python is fun!\", write a program to slice and \n",
    "print the word \"Python\" from it. \n",
    "\n",
    "Challenge: Replace the word \"fun\" with \"awesome\" in the sentence and print the new \n",
    "sentence."
   ]
  },
  {
   "cell_type": "code",
   "execution_count": 23,
   "metadata": {},
   "outputs": [
    {
     "name": "stdout",
     "output_type": "stream",
     "text": [
      "Learning Python is fun!\n",
      "Python\n",
      "Learning Python is awesome!\n"
     ]
    }
   ],
   "source": [
    "sentence = \"Learning Python is fun!\"\n",
    "print(sentence)\n",
    "print(sentence[9:15])\n",
    " \n",
    "print(sentence.replace(\"fun\", \"awesome\"))\n"
   ]
  },
  {
   "cell_type": "markdown",
   "metadata": {},
   "source": [
    "                                                                       Section 7: Dictionaries \n",
    "Create a dictionary called student with the keys name, age, and grade. Assign values \n",
    "to each key and print the dictionary. \\\n",
    "\n",
    "Challenge: Add a new key city to the dictionary and set it to any city name. Print the \n",
    "updated dictionary."
   ]
  },
  {
   "cell_type": "code",
   "execution_count": 24,
   "metadata": {},
   "outputs": [
    {
     "name": "stdout",
     "output_type": "stream",
     "text": [
      "Initial dictionary: {'name': 'Alice', 'age': 20, 'grade': 'A'}\n",
      "Updated dictionary: {'name': 'Alice', 'age': 20, 'grade': 'A', 'city': 'Cairo'}\n"
     ]
    }
   ],
   "source": [
    "student = {\n",
    "    'name': 'Alice',\n",
    "    'age': 20,\n",
    "    'grade': 'A'\n",
    "}\n",
    "print(\"Initial dictionary:\", student)\n",
    "student['city'] = 'Cairo'\n",
    "print(\"Updated dictionary:\", student)\n"
   ]
  },
  {
   "cell_type": "markdown",
   "metadata": {},
   "source": [
    "                                                             Section8: Basic Arithmetic Operations \n",
    "Write a program that takes two numbers from the user and prints their sum, \n",
    "difference, product, and division result. \n",
    "\n",
    "Challenge: Use the modulo operator to check if the first number is divisible by the second \n",
    "number, and print the result as \"Divisible\" or \"Not Divisible\""
   ]
  },
  {
   "cell_type": "code",
   "execution_count": 2,
   "metadata": {},
   "outputs": [
    {
     "name": "stdout",
     "output_type": "stream",
     "text": [
      "Sum: 48.0\n",
      "Difference: 2.0\n",
      "Product: 575.0\n",
      "Division: 1.0869565217391304\n",
      "Not Divisible\n"
     ]
    }
   ],
   "source": [
    "num1 = float(input(\"Enter the first number: \"))\n",
    "num2 = float(input(\"Enter the second number: \"))\n",
    "sum_result = num1 + num2\n",
    "difference = num1 - num2\n",
    "product = num1 * num2\n",
    "division = num1 / num2 if num2 != 0 else \"undefined\" \n",
    "print(f\"Sum: {sum_result}\")\n",
    "print(f\"Difference: {difference}\")\n",
    "print(f\"Product: {product}\")\n",
    "print(f\"Division: {division}\")\n",
    "if num1 % num2 == 0:\n",
    "        print(\"Divisible\")\n",
    "else:\n",
    "        print(\"Not Divisible\")\n",
    "\n",
    "\n"
   ]
  }
 ],
 "metadata": {
  "kernelspec": {
   "display_name": "Python 3",
   "language": "python",
   "name": "python3"
  },
  "language_info": {
   "codemirror_mode": {
    "name": "ipython",
    "version": 3
   },
   "file_extension": ".py",
   "mimetype": "text/x-python",
   "name": "python",
   "nbconvert_exporter": "python",
   "pygments_lexer": "ipython3",
   "version": "3.13.0"
  }
 },
 "nbformat": 4,
 "nbformat_minor": 2
}
