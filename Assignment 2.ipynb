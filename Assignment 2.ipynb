{
 "cells": [
  {
   "cell_type": "code",
   "execution_count": null,
   "metadata": {},
   "outputs": [],
   "source": []
  },
  {
   "cell_type": "markdown",
   "metadata": {},
   "source": [
    "                                                  Part 1: Lists and List Slicing \n",
    "Create a list of 10 integers ranging from 1 to 20. Then, do the following: \n",
    "\n",
    "o Extract and print the first 5 elements of the list. \n",
    "\n",
    "o Extract and print the last 3 elements using negative indexing. \n",
    "\n",
    "o Extract and print all elements from index 3 to index 7. \n",
    "\n",
    "Write a Python program that: \n",
    "\n",
    "o Creates a list of 5 different fruits. \n",
    "\n",
    "o Add two more fruits to the list. \n",
    "\n",
    "o Remove the last fruit in the list. \n",
    "\n",
    "o Print the updated list\n"
   ]
  },
  {
   "cell_type": "code",
   "execution_count": null,
   "metadata": {},
   "outputs": [
    {
     "name": "stdout",
     "output_type": "stream",
     "text": [
      "First 5 elements: [1, 3, 5, 7, 9]\n",
      "Last 3 elements: [15, 17, 20]\n",
      "Elements from index 3 to index 7: [7, 9, 11, 13, 15]\n"
     ]
    }
   ],
   "source": [
    "integers = [1, 3, 5, 7, 9, 11, 13, 15, 17, 20]\n",
    "first_five = integers[:5]\n",
    "print(\"First 5 elements:\", first_five)\n",
    "last_three = integers[-3:]\n",
    "print(\"Last 3 elements:\", last_three)\n",
    "mid_elements = integers[3:8]\n",
    "print(\"Elements from index 3 to index 7:\", mid_elements)\n"
   ]
  },
  {
   "cell_type": "code",
   "execution_count": 1,
   "metadata": {},
   "outputs": [
    {
     "name": "stdout",
     "output_type": "stream",
     "text": [
      "['apple', 'banana', 'cherry', 'date', 'strawberry']\n",
      "['apple', 'banana', 'cherry', 'date', 'strawberry', 'fig']\n",
      "['apple', 'banana', 'cherry', 'date', 'strawberry', 'fig', 'grape']\n",
      "Updated list of fruits: ['apple', 'banana', 'cherry', 'date', 'strawberry', 'fig']\n"
     ]
    }
   ],
   "source": [
    "fruits = ['apple', 'banana', 'cherry', 'date', 'strawberry']\n",
    "print(fruits)\n",
    "fruits.append('fig')\n",
    "print(fruits)\n",
    "fruits.append('grape')\n",
    "print(fruits)\n",
    "fruits.pop()\n",
    "print(\"Updated list of fruits:\", fruits)\n"
   ]
  },
  {
   "cell_type": "markdown",
   "metadata": {},
   "source": [
    "                                                                Part 2: Tuples and Dictionaries \n",
    "\n",
    "o Create a tuple that contains 5 different cities. \n",
    "\n",
    "o Access and print the second city in the tuple. \n",
    "\n",
    "o Try to change the value of the second city in the tuple and explain why it does \n",
    "\n",
    "not work. \n",
    "\n",
    "Write a Python program that creates a dictionary with the following keys and \n",
    "values: \n",
    "\n",
    "o 'name': 'John', 'age': 30, 'city': 'New York'. Then: \n",
    "\n",
    "o Print the value of the 'age' key. \n",
    "\n",
    "o Add a new key-value pair 'job': 'Engineer' to the dictionary. \n",
    "\n",
    "o Remove the 'city' key and print the updated dictionary. \n",
    "\n",
    "Write a Python program that: \n",
    "\n",
    "o Creates a dictionary to store the names and ages of 3 people. \n",
    "\n",
    "o Print each person's name and their corresponding age using a loop."
   ]
  },
  {
   "cell_type": "code",
   "execution_count": 6,
   "metadata": {},
   "outputs": [
    {
     "name": "stdout",
     "output_type": "stream",
     "text": [
      "The second city in the tuple is: New York\n",
      "Error: 'tuple' object does not support item assignment\n"
     ]
    }
   ],
   "source": [
    "cities = ('Tokyo', 'New York', 'Paris', 'London', 'Cairo')\n",
    "second_city = cities[1]\n",
    "print(\"The second city in the tuple is:\", second_city)\n",
    "try:\n",
    "\n",
    "    cities[1] = 'Berlin'\n",
    "except TypeError as e:\n",
    "    print(\"Error:\", e)\n"
   ]
  },
  {
   "cell_type": "code",
   "execution_count": 7,
   "metadata": {},
   "outputs": [
    {
     "name": "stdout",
     "output_type": "stream",
     "text": [
      "Age: 30\n",
      "Updated dictionary: {'name': 'John', 'age': 30, 'job': 'Engineer'}\n",
      "Alice is 25 years old.\n",
      "Bob is 30 years old.\n",
      "Charlie is 35 years old.\n"
     ]
    }
   ],
   "source": [
    "person = {\n",
    "    'name': 'John',\n",
    "    'age': 30,\n",
    "    'city': 'New York'\n",
    "}\n",
    "print(\"Age:\", person['age'])\n",
    "\n",
    "person['job'] = 'Engineer'\n",
    "\n",
    "del person['city']\n",
    "print(\"Updated dictionary:\", person)\n",
    "people = {\n",
    "    'Alice': 25,\n",
    "    'Bob': 30,\n",
    "    'Charlie': 35\n",
    "}\n",
    "for name, age in people.items():\n",
    "    print(f\"{name} is {age} years old.\")\n"
   ]
  },
  {
   "cell_type": "markdown",
   "metadata": {},
   "source": [
    "                                                             Part 3: Conditional Statements \n",
    "\n",
    "Write a Python program that takes the user's age as input and prints: \n",
    "\n",
    "o 'Adult' if the age is 18 or older. \n",
    "\n",
    "o 'Minor' if the age is less than 18. \n",
    "\n",
    "Write a Python program that checks if a number entered by the user is: \n",
    "\n",
    "o 'Even' if it is divisible by 2. \n",
    "\n",
    "o 'Odd' if it is not divisible by 2. \n",
    "\n",
    "You must use an if-else statement for this task. \n",
    "\n",
    "Write a Python program that: \n",
    "\n",
    "o Takes a score from the user and prints the grade based on the following criteria: \n",
    "\n",
    "▪ 90 and above: 'A' \n",
    "\n",
    "▪ 70-89: 'B' \n",
    "\n",
    "▪ 50-69: 'C' \n",
    "\n",
    "▪ Below 50: 'F'"
   ]
  },
  {
   "cell_type": "code",
   "execution_count": null,
   "metadata": {},
   "outputs": [
    {
     "name": "stdout",
     "output_type": "stream",
     "text": [
      "Adult\n"
     ]
    }
   ],
   "source": [
    "age = int(input(\"Enter your age: \"))\n",
    "if age >= 18:\n",
    "    print(\"Adult\")\n",
    "else:\n",
    "    print(\"Minor\")\n"
   ]
  },
  {
   "cell_type": "code",
   "execution_count": null,
   "metadata": {},
   "outputs": [
    {
     "name": "stdout",
     "output_type": "stream",
     "text": [
      "Odd\n"
     ]
    }
   ],
   "source": [
    "number = int(input(\"Enter a number: \"))\n",
    "if number % 2 == 0:\n",
    "    print(\"Even\")\n",
    "else:\n",
    "    print(\"Odd\")\n"
   ]
  },
  {
   "cell_type": "code",
   "execution_count": null,
   "metadata": {},
   "outputs": [
    {
     "name": "stdout",
     "output_type": "stream",
     "text": [
      "A\n"
     ]
    }
   ],
   "source": [
    "score = int(input(\"Enter your score: \"))\n",
    "if score >= 90:\n",
    "    print(\"A\")\n",
    "elif score >= 70:\n",
    "    print(\"B\")\n",
    "elif score >= 50:\n",
    "    print(\"C\")\n",
    "else:\n",
    "    print(\"F\")\n"
   ]
  },
  {
   "cell_type": "markdown",
   "metadata": {},
   "source": [
    "                                                Part 4: Loops \n",
    "\n",
    "Write a Python program that uses a for loop to print all even numbers \n",
    "between 1 and 20. \n",
    "\n",
    "Write a Python program that uses a while loop to print the numbers from 10 \n",
    "to 1, in descending order. \n",
    "\n",
    "Write a Python program that: \n",
    "\n",
    "• Asks the user to input a number. \n",
    "\n",
    "• Then, using a for loop, calculates the sum of all numbers from 1 to the entered number \n",
    "\n",
    "(inclusive) and prints the result."
   ]
  },
  {
   "cell_type": "code",
   "execution_count": 13,
   "metadata": {},
   "outputs": [
    {
     "name": "stdout",
     "output_type": "stream",
     "text": [
      "2\n",
      "4\n",
      "6\n",
      "8\n",
      "10\n",
      "12\n",
      "14\n",
      "16\n",
      "18\n",
      "20\n"
     ]
    }
   ],
   "source": [
    "for num in range(1, 21):\n",
    "    if num % 2 == 0:\n",
    "        print(num)\n"
   ]
  },
  {
   "cell_type": "code",
   "execution_count": 12,
   "metadata": {},
   "outputs": [
    {
     "name": "stdout",
     "output_type": "stream",
     "text": [
      "10\n",
      "9\n",
      "8\n",
      "7\n",
      "6\n",
      "5\n",
      "4\n",
      "3\n",
      "2\n",
      "1\n"
     ]
    }
   ],
   "source": [
    "num = 10\n",
    "while num >= 1:\n",
    "    print(num)\n",
    "    num -= 1\n"
   ]
  },
  {
   "cell_type": "code",
   "execution_count": 11,
   "metadata": {},
   "outputs": [
    {
     "name": "stdout",
     "output_type": "stream",
     "text": [
      "The sum of all numbers from 1 to 25 is: 325\n"
     ]
    }
   ],
   "source": [
    "number = int(input(\"Enter a number: \"))\n",
    "total_sum = 0\n",
    "for i in range(1, number + 1):\n",
    "    total_sum += i\n",
    "print(f\"The sum of all numbers from 1 to {number} is: {total_sum}\")\n"
   ]
  },
  {
   "cell_type": "markdown",
   "metadata": {},
   "source": [
    "                                             Part 5: Input Function and User Interaction\n",
    "\n",
    "Write a Python program that asks the user for their name and age, then prints \n",
    "\n",
    "a message saying: \"Hello, [name]! You are [age] years old.\" \n",
    "\n",
    "Write a Python program that asks the user for their favorite color and checks \n",
    "\n",
    "if it is 'blue'. If it is, print \"You have great taste!\", otherwise print \"That's a \n",
    "\n",
    "nice color too!\""
   ]
  },
  {
   "cell_type": "code",
   "execution_count": 14,
   "metadata": {},
   "outputs": [
    {
     "name": "stdout",
     "output_type": "stream",
     "text": [
      "Hello, youssef! You are 22 years old.\n"
     ]
    }
   ],
   "source": [
    "name = input(\"What is your name? \")\n",
    "age = input(\"How old are you? \")\n",
    "print(f\"Hello, {name}! You are {age} years old.\")\n"
   ]
  },
  {
   "cell_type": "code",
   "execution_count": 15,
   "metadata": {},
   "outputs": [
    {
     "name": "stdout",
     "output_type": "stream",
     "text": [
      "You have great taste!\n"
     ]
    }
   ],
   "source": [
    "favorite_color = input(\"What is your favorite color? \")\n",
    "if favorite_color.lower() == 'blue':\n",
    "    print(\"You have great taste!\")\n",
    "else:\n",
    "    print(\"That's a nice color too!\")\n"
   ]
  },
  {
   "cell_type": "markdown",
   "metadata": {},
   "source": [
    "Write a Python program that asks the user to enter a list of 5 numbers. \n",
    "Then: \n",
    "• Calculate and print the average of the numbers. \n",
    "\n",
    "• Print the largest and smallest numbers from the list.\n",
    " "
   ]
  },
  {
   "cell_type": "code",
   "execution_count": 16,
   "metadata": {},
   "outputs": [
    {
     "name": "stdout",
     "output_type": "stream",
     "text": [
      "Average of the numbers: 23.6\n",
      "Largest number: 26.0\n",
      "Smallest number: 21.0\n"
     ]
    }
   ],
   "source": [
    "numbers = []\n",
    "for i in range(5):\n",
    "    number = float(input(\"Enter a number: \"))\n",
    "    numbers.append(number)\n",
    "\n",
    "average = sum(numbers) / len(numbers)\n",
    "largest = max(numbers)\n",
    "smallest = min(numbers)\n",
    "\n",
    "print(f\"Average of the numbers: {average}\")\n",
    "print(f\"Largest number: {largest}\")\n",
    "print(f\"Smallest number: {smallest}\")\n"
   ]
  }
 ],
 "metadata": {
  "kernelspec": {
   "display_name": "Python 3",
   "language": "python",
   "name": "python3"
  },
  "language_info": {
   "codemirror_mode": {
    "name": "ipython",
    "version": 3
   },
   "file_extension": ".py",
   "mimetype": "text/x-python",
   "name": "python",
   "nbconvert_exporter": "python",
   "pygments_lexer": "ipython3",
   "version": "3.13.0"
  }
 },
 "nbformat": 4,
 "nbformat_minor": 2
}
